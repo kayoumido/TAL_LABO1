{
 "cells": [
  {
   "cell_type": "markdown",
   "metadata": {},
   "source": [
    "<img src=\"https://upload.wikimedia.org/wikipedia/commons/c/c7/HEIG-VD_Logo_96x29_RVB_ROUGE.png\" alt=\"HEIG-VD Logo\" width=\"250\" /> \n",
    "\n",
    "# Cours TAL - Laboratoire 1a - Mise en place de l'environnement "
   ]
  },
  {
   "cell_type": "markdown",
   "metadata": {},
   "source": [
    "## Bienvenue au premier labo du cours TAL !\n",
    "\n",
    "Pour travailler avec ce _noteboook_, il faut d'abord télécharger l'archive ZIP du Laboratoire 1 qui inclut ce _notebook_ en PDF et les quatre fichiers `TAL_Labo1a.ipynb`, `TAL_Labo1b.ipynb`, `TAL_Labo1c.ipynb` et `TAL_Labo1d.ipynb`.  Vous pouvez commencer par lire le fichier PDF avant de mettre en place l'option qui vous conviendra parmi les suivantes, ce qui vous permettra d'ouvrir les fichiers `.ipynb`."
   ]
  },
  {
   "cell_type": "markdown",
   "metadata": {},
   "source": [
    "## Résumé\n",
    "Le but de cette première partie (a) du Laboratoire 1 est de vous permettre d'installer et de tester l'environnement de programmation qui vous servira tout au long du [Cours TAL](https://cyberlearn.hes-so.ch/course/view.php?id=14966).  Le langage de programmation sera [Python 3](https://www.python.org/) avec les _notebooks_ [Jupyter](https://jupyter.org/) qui vous permettront d'écrire des instructions, conserver leurs résultats, et ajouter vos commentaires.  \n",
    "\n",
    "Dans les parties (b), (c) et (d) de ce Laboratoire 1 (_notebooks_ appelés `TAL_Labo1b`, `TAL_Labo1c` et `TAL_Labo1d`), vous utiliserez la boîte à outils [NLTK](http://www.nltk.org/) pour travailler sur des fichiers locaux ou en ligne, et spécifiquement les segmenter en phrases et en mots.\n",
    "\n",
    "Pour soumettre vos résultats, veuillez exécuter toutes les cellules de chaque _notebook_, puis regroupez les quatre fichiers `.ipynb` dans un fichier archive `zip`, à soumettre sur [Cybearlearn](https://cyberlearn.hes-so.ch/course/view.php?id=14966)."
   ]
  },
  {
   "cell_type": "markdown",
   "metadata": {},
   "source": [
    "## Options d'utilisation de Python et Jupyter\n",
    "\n",
    "Tout d'abord, décidez si vous avez besoin d'un gestionnaire d'environnements comme Conda -- utile par exemple si vous devez gérer plusieurs versions incompatibles de Python ou de ses _packages_ sur une même machine.  Si oui, veuillez suivre les instructions de l'option 1 ci-dessous, puis continuez avec l'option 2.  Sinon, passez directement à l'option 2.  Si vous ne souhaitez pas du tout travailler en local, suivez l'option 3.  En résumé :\n",
    "\n",
    "   - travailler sur votre ordinateur ou sur un service en ligne ?\n",
    "      - ordinateur (recommandé) : *passez à la question suivante*\n",
    "      - en ligne: *option 3*\n",
    "   - environnement unique ou multiple ?\n",
    "       - unique (plus simple) : *option 2* seule\n",
    "       - multiple (plus flexible) : *option 1* puis *option 2*"
   ]
  },
  {
   "cell_type": "markdown",
   "metadata": {},
   "source": [
    "**Option 1 : gestionnaire d'environnements Conda**\n",
    "\n",
    "Avant d'installer Python et Jupyter sur votre ordinateur, demandez-vous si vous souhaitez installer un gestionnaire d'environnements qui évitera les conflits entre différentes versions de Python et des ses _packages_ dont vous pourriez avoir besoin.  Vous pouvez installer le gestionnaire Anaconda / Conda / Miniconda avant Python, mais il est toujours possible de le faire après.  Si vous choisissez Miniconda3, Python 3 sera inclus dans l'installation.  (Anaconda est une distribution plus grande qui contient beaucoup de _packages_ Python installés."
   ]
  },
  {
   "cell_type": "markdown",
   "metadata": {},
   "source": [
    "_Instructions pour installer Conda_\n",
    "\n",
    "* suivez les instructions à https://conda.io/projects/conda/en/latest/user-guide/install/index.html et considérez plutôt l'installation de Miniconda3 (attention à l'OS : Windows, Linux ou MacOS).\n",
    "* les programmes d'installation (exécutable Windows, script `bash` pour Linux) seront à https://conda.io/en/latest/miniconda.html\n",
    "   * exemple sous Linux : exécuter `wget https://repo.continuum.io/miniconda/Miniconda3-latest-Linux-x86_64.sh` puis\n",
    "`bash Miniconda3-latest-Linux-x86_64.sh`\n",
    "* après l'installation, toutes les commandes Conda (identiques sur tous les OS) se font en ligne de commande (les plus importantes sont celles pour créer un nouvel environnement et le charger).  Sous Windows, on utilise le `command prompt` ou le prompt d'Anaconda.\n",
    "* commande utile : `conda info`\n",
    "* introduction très rapide à Conda : https://conda.io/projects/conda/en/latest/user-guide/getting-started.html\n",
    "* liste de commandes Conda: https://conda.io/projects/conda/en/latest/user-guide/cheatsheet.html\n",
    "* pour créer un environnement pour le cours de TAL et l'activer :\n",
    "   * `conda create --name CoursTAL python=3.7`\n",
    "   * `source activate CoursTAL`\n",
    "* essayer `conda list` pour voir ce qui est installé par défaut\n",
    "* pour quitter l'environnement : `source deactivate`\n"
   ]
  },
  {
   "cell_type": "markdown",
   "metadata": {},
   "source": [
    "_Instructions pour utiliser Jupyter avec Conda_\n",
    "\n",
    "Jupyter est un serveur qui supporte des pages dynamiques avec des textes, du code, et des résultat (comme celle-ci).  On peut demander à Jupyter d'utiliser un certain environnement Conda (comme _kernel_).  Installez d'abord Jupyter (voir Option 2), de préférence dans le même environnement (`CoursTAL`).  Une fois installé, exécutez ces commandes :\n",
    "* `source activate CoursTAL`\n",
    "* `python -m ipykernel install --user --name CoursTAL --display-name \"CoursTAL\"`\n",
    "Ainsi, lorsque vous créérez un _notebook_ Jupyter, vous pourrez choisir l'environnement \"CoursTAL\" pour le kernel."
   ]
  },
  {
   "cell_type": "markdown",
   "metadata": {},
   "source": [
    "**Option 2: installation locale de Python (sans Conda)**\n",
    "  \n",
    "* Installez un interpréteur [Python 3](https://www.python.org/downloads/) (Python 3.8 ou 3.7, et non pas 2.7).\n",
    "* Installez ensuite le [package Jupyter](https://jupyter.org/install). Une bonne idée est d'utiliser [Package Installer for Python (pip)](https://packaging.python.org/tutorials/installing-packages/) pour ajouter de nouveaux _packages_ (en général avec la commande `pip install xxxxx`.\n",
    "  * Ces opérations se font en ligne de commande (sous Windows: `cmd` ou Power Shell).  \n",
    "* Créez un dossier où vos stockerez vos _notebooks_ et ajoutez-y `TAL_Labo1a.ipynb` et les 3 autres.  \n",
    "* Depuis le dossier précédent (`cd xxxx`), lancez le serveur Jupyter avec la `jupyter notebook --no-browser`\n",
    "* Ouvrez l'URL http://localhost:8888 pour voir la liste des _notebooks_ connus de Jupyter, puis exécutez celui appelé `TAL_Labo1a.ipynb` -- celui-ci même ! "
   ]
  },
  {
   "cell_type": "markdown",
   "metadata": {},
   "source": [
    "  \n",
    "**Option 3 : travailler sur un service en ligne (Colab)**\n",
    "\n",
    "Vous pouvez utiliser l'environnement en ligne gratuit proposé par Google, appelé [Colab](https://colab.research.google.com).  Vous aurez toutefois besoin d'un compte Google (par exemple Gmail) et vos fichiers seront stockés sur Google Drive.  Colab est offert par Google pour expérimenter avec le _machine learning_ (sur CPU, GPU ou TPU), mais pas pour des calculs très intenses.\n",
    "\n",
    "Une fois votre session ouverte sur Colab, vous devrez importer les _notebooks_ Jupyter vers cet Colab.  Les _packages_ Python que nous utiliserons sont déjà installés."
   ]
  },
  {
   "cell_type": "markdown",
   "metadata": {},
   "source": [
    "## Quelques tests simples\n",
    "Pour tester votre installation, veuillez écrire un simple calcul dans la cellule suivante : combien de séquences de trois lettres peut-on former avec les 26 lettres (minuscules) de l'alphabet latin ? (Sans diacritiques.)"
   ]
  },
  {
   "cell_type": "code",
   "execution_count": 9,
   "metadata": {},
   "outputs": [
    {
     "data": {
      "text/plain": [
       "17576"
      ]
     },
     "execution_count": 9,
     "metadata": {},
     "output_type": "execute_result"
    }
   ],
   "source": [
    "# Ecrivez votre code à la ligne qui suit, puis exécutez la cellule pour afficher le résultat\n",
    "26**3"
   ]
  },
  {
   "cell_type": "markdown",
   "metadata": {},
   "source": [
    "Autre test : en Python, veuillez créer une liste contenant les entiers de 1 à 10, puis veuillez afficher la liste de leurs valeurs au carré.  Vous pouvez vous inspirer de ce [Tutoriel Python de l'université d'Edimbourg](http://www.inf.ed.ac.uk/teaching/courses/fnlp/Tutorials/python_intro.ipynb)."
   ]
  },
  {
   "cell_type": "code",
   "execution_count": 12,
   "metadata": {},
   "outputs": [
    {
     "data": {
      "text/plain": [
       "[1, 4, 9, 16, 25, 36, 49, 64, 81, 100]"
      ]
     },
     "execution_count": 12,
     "metadata": {},
     "output_type": "execute_result"
    }
   ],
   "source": [
    "# Ecrivez votre code à la ligne qui suit, puis exécutez la cellule pour afficher le résultat\n",
    "[x**2 for x in list(range(1, 11))]"
   ]
  },
  {
   "cell_type": "markdown",
   "metadata": {},
   "source": [
    "## Comment se familiariser avec Python?\n",
    "\n",
    "Comme indiqué ci-dessus, la première option est [le tutoriel de l'UEdin](http://www.inf.ed.ac.uk/teaching/courses/fnlp/Tutorials/python_intro.ipynb) qui est proposé dans le [cours de TAL de l'UEdin](http://www.inf.ed.ac.uk/teaching/courses/fnlp/).  Ce cours offre aussi une bonne [introduction au _package_ `numpy`](http://www.inf.ed.ac.uk/teaching/courses/fnlp/Tutorials/numpy_intro.ipynb).  Le premier _notebook_ introduit aussi [Matplotlib](https://matplotlib.org/), qui permet de faire des graphiques dans Jupyter.  \n",
    "\n",
    "Une introduction systématique au langage Python est proposée par J.R. Johansson dans ses [Scientific Python Lectures](http://github.com/jrjohansson/scientific-python-lectures), qui sont accompagnées de _notebooks_ Jupyter.  La [documentation Python](https://www.python.org/doc/) en ligne est également utile."
   ]
  },
  {
   "cell_type": "markdown",
   "metadata": {},
   "source": [
    "## Fin de la partie (a) du Laboratoire 1\n",
    "\n",
    "Veuillez passer maintenant au _notebook_ `TAL_Labo1b.ipynb`."
   ]
  }
 ],
 "metadata": {
  "kernelspec": {
   "display_name": "Python 3",
   "language": "python",
   "name": "python3"
  },
  "language_info": {
   "codemirror_mode": {
    "name": "ipython",
    "version": 3
   },
   "file_extension": ".py",
   "mimetype": "text/x-python",
   "name": "python",
   "nbconvert_exporter": "python",
   "pygments_lexer": "ipython3",
   "version": "3.8.8"
  }
 },
 "nbformat": 4,
 "nbformat_minor": 2
}

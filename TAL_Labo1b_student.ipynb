{
 "cells": [
  {
   "cell_type": "markdown",
   "metadata": {},
   "source": [
    "# TAL Labo 1b : Segmentation de textes avec NLTK\n",
    "\n",
    "**Objectifs**\n",
    "\n",
    "Le but de cette deuxième partie du Labo 1 du [Cours TAL](https://cyberlearn.hes-so.ch/course/view.php?id=14966) est d'effectuer quelques opérations élémentaires sur les textes en utilisant la boîte à outils [NLTK](http://www.nltk.org/) en Python.  Vous utiliserez l'environnement mis en place dans la partie 1a : [Python 3.7 ou 3.8](https://www.python.org/) avec _notebooks_ [Jupyter](https://jupyter.org/), soit localement sur votre ordinateur (avec ou sans Conda) ou en ligne sur [Google Colab](https://colab.research.google.com).\n",
    "\n",
    "Vous utiliserez NLTK pour obtenir des textes en ligne ou localement, puis vous les segmenterez en phrases et en mots (appelés aussi _tokens_).  Vous calculerez aussi des statistiques sur ces textes.  Vous travaillerez d'abord sur des textes en anglais (1b et 1c), puis en français (1d)."
   ]
  },
  {
   "cell_type": "markdown",
   "metadata": {},
   "source": [
    "## 1. NLTK: Natural Language Toolkit\n",
    "\n",
    "Pour ajouter NLTK à votre installation locale de Python, suivez les instructions sur le [site web NLTK](http://www.nltk.org/install.html).  Sur Google Colab, NLTK est déjà installé.\n",
    "\n",
    "Pour utiliser NLTK en Python (y compris dans un _notebook_ Jupyter), vous pouvez écrire `import nltk`, puis accéder à toutes les commandes avec le préfixe `nltk.`.  Si vous écrivez `from nltk.book import *`, cela importera des commandes et des variables (p.ex. une collection de textes) qui seront accessibles sans utiliser le préfixe. \n",
    "\n",
    "**Remarques**\n",
    "* Le but de ce laboratoire est de vous initier à NLTK.  Vous pouvez aussi parcourir le [Chapitre 1](http://www.nltk.org/book/ch01.html) du [livre NLTK (*NLP with Python*)](http://www.nltk.org/book/) et essayer les commandes indiquées.  \n",
    "* Veuillez noter que le [livre en ligne](http://www.nltk.org/book/) est mis à jour pour Python 3, mais la [version imprimée](http://shop.oreilly.com/product/9780596516499.do) que l'on peut parfois trouver en PDF est pour Python 2. \n",
    "* NLTK inclut un gestionnaire de téléchargements qui peut être invoqué depuis un interpréteur Python en ligne de commande (écrire `python3` en ligne de commande) avec les deux commandes `import nltk` puis `nltk.download()`.  Cela vous permettra de télécharger de nombreux corpus _additionnels_ (i.e. collections de textes), mais que nous n'utiliserons pas en laboratoire."
   ]
  },
  {
   "cell_type": "code",
   "execution_count": 43,
   "metadata": {},
   "outputs": [
    {
     "name": "stderr",
     "output_type": "stream",
     "text": [
      "[nltk_data] Downloading package stopwords to /home/ducky/nltk_data...\n",
      "[nltk_data]   Unzipping corpora/stopwords.zip.\n",
      "[nltk_data] Downloading package punkt to /home/ducky/nltk_data...\n",
      "[nltk_data]   Package punkt is already up-to-date!\n"
     ]
    },
    {
     "data": {
      "text/plain": [
       "True"
      ]
     },
     "execution_count": 43,
     "metadata": {},
     "output_type": "execute_result"
    }
   ],
   "source": [
    "import nltk\n",
    "# from nltk.book import *\n",
    "nltk.download('stopwords')\n",
    "nltk.download('punkt')"
   ]
  },
  {
   "cell_type": "markdown",
   "metadata": {},
   "source": [
    "Écrivez une phrase en anglais (liste de mots / string) que vous appelerez `sentence1`.  \n",
    "\n",
    "Affichez sa longueur avec `len()`.  \n",
    "\n",
    "Utilisez `nltk.bigrams` pour générer tous les bi-grammes (couples de mots adjacents) à partir de cette liste.  Un exemple est montré dans la [section 3.3 du chapitre 1 du livre NLTK](http://www.nltk.org/book/ch01.html#collocations-and-bigrams).  \n",
    "\n",
    "Enfin, trier les bi-grammes par ordre alphabétique et afficher le résultat."
   ]
  },
  {
   "cell_type": "code",
   "execution_count": 14,
   "metadata": {},
   "outputs": [
    {
     "name": "stdout",
     "output_type": "stream",
     "text": [
      "length of the phrase: 110\n",
      "bigrams:  [('Oryzomys', 'gorgasi,'), ('gorgasi,', 'also'), ('also', 'known'), ('known', 'as'), ('as', \"Gorgas's\"), (\"Gorgas's\", 'rice'), ('rice', 'rat,'), ('rat,', 'is'), ('is', 'a'), ('a', 'rodent'), ('rodent', 'in'), ('in', 'the'), ('the', 'genus'), ('genus', 'Oryzomys'), ('Oryzomys', 'of'), ('of', 'the'), ('the', 'family'), ('family', 'Cricetidae.')]\n",
      "sorted bigrams: [('a', 'rodent'), ('also', 'known'), ('as', \"Gorgas's\"), ('family', 'Cricetidae.'), ('genus', 'Oryzomys'), (\"Gorgas's\", 'rice'), ('gorgasi,', 'also'), ('in', 'the'), ('is', 'a'), ('known', 'as'), ('of', 'the'), ('Oryzomys', 'gorgasi,'), ('Oryzomys', 'of'), ('rat,', 'is'), ('rice', 'rat,'), ('rodent', 'in'), ('the', 'family'), ('the', 'genus')]\n"
     ]
    }
   ],
   "source": [
    "# Please write your Python code in this cell and execute it.\n",
    "sentence1 = \"Oryzomys gorgasi, also known as Gorgas's rice rat, is a rodent in the genus Oryzomys of the family Cricetidae.\"\n",
    "\n",
    "print('length of the phrase:', len(sentence1))\n",
    "\n",
    "bigrams = list(nltk.bigrams(sentence1.split()))\n",
    "print('bigrams: ', bigrams)\n",
    "\n",
    "print('sorted bigrams:', sorted(bigrams, key=lambda b: [b[0].lower(), b[1].lower()]))\n"
   ]
  },
  {
   "cell_type": "markdown",
   "metadata": {},
   "source": [
    "Défnissez une chaîne appelée `string2` contenant une phrase.  Utilisez le *tokenizer* de NLTK (fonction `nltk.word_tokenize`, expliquée dans la [section 3.1 du livre NLTK](http://www.nltk.org/book/ch03.html#sec-accessing-text)) pour segmenter la chaîne en mots, qui seront rassemblés dans une liste que vous appelerez `sentence2`.  Affichez cette liste."
   ]
  },
  {
   "cell_type": "code",
   "execution_count": 15,
   "metadata": {},
   "outputs": [
    {
     "data": {
      "text/plain": [
       "['Oryzomys',\n",
       " 'gorgasi',\n",
       " ',',\n",
       " 'also',\n",
       " 'known',\n",
       " 'as',\n",
       " 'Gorgas',\n",
       " \"'s\",\n",
       " 'rice',\n",
       " 'rat',\n",
       " ',',\n",
       " 'is',\n",
       " 'a',\n",
       " 'rodent',\n",
       " 'in',\n",
       " 'the',\n",
       " 'genus',\n",
       " 'Oryzomys',\n",
       " 'of',\n",
       " 'the',\n",
       " 'family',\n",
       " 'Cricetidae',\n",
       " '.']"
      ]
     },
     "execution_count": 15,
     "metadata": {},
     "output_type": "execute_result"
    }
   ],
   "source": [
    "# Please write your Python code in this cell and execute it.\n",
    "sentence2 = \"Oryzomys gorgasi, also known as Gorgas's rice rat, is a rodent in the genus Oryzomys of the family Cricetidae.\"\n",
    "nltk.word_tokenize(sentence2)"
   ]
  },
  {
   "cell_type": "markdown",
   "metadata": {},
   "source": [
    "## 2. Utiliser NLTK pour télécharger, segmenter et sauvegarder un texte\n",
    "\n",
    "Inspirez-vous du [chapitre 3 (3.1. Processing Raw Text) du livre NLTK](http://www.nltk.org/book/ch03.html) pour télécharger un fichier avec du texte en ligne, par exemple un livre anglais du Projet Gutenberg.  Stocker le contenu dans une chaîne."
   ]
  },
  {
   "cell_type": "code",
   "execution_count": 60,
   "metadata": {},
   "outputs": [
    {
     "data": {
      "text/plain": [
       "1260669"
      ]
     },
     "execution_count": 60,
     "metadata": {},
     "output_type": "execute_result"
    }
   ],
   "source": [
    "from urllib import request\n",
    "# Please write your Python code below and execute it.\n",
    "book_url = \"http://www.gutenberg.org/files/2701/2701-0.txt\"\n",
    "response = request.urlopen(book_url)\n",
    "raw_book = response.read().decode('utf8')\n",
    "\n",
    "len(raw_book)"
   ]
  },
  {
   "cell_type": "markdown",
   "metadata": {},
   "source": [
    "En inspectant la chaîne précédente, déterminez quelle partie du début et de la fin il faut enlever pour garder le texte principal.  Vous pouvez utiliser la notation dite de *slicing* en Python, ou identifier les chaînes où commence et finit le véritable texte.  Quelle est la longueur de ce texte en caractères ?  (Lien utile : [support d'Unicode dans Python](https://docs.python.org/3.7/howto/unicode.html).)"
   ]
  },
  {
   "cell_type": "code",
   "execution_count": 61,
   "metadata": {},
   "outputs": [
    {
     "name": "stdout",
     "output_type": "stream",
     "text": [
      "length of the text 1218928\n"
     ]
    }
   ],
   "source": [
    "# Please write your Python code below and execute it.\n",
    "start_delimiter = \"*** START OF THE PROJECT GUTENBERG EBOOK\"\n",
    "end_delimiter = \"*** END OF THE PROJECT GUTENBERG EBOOK\"\n",
    "\n",
    "raw_book.find(start_delimiter)\n",
    "\n",
    "book_start = raw_book.find(start_delimiter)\n",
    "book_start = raw_book.find(\"\\n\", book_start)\n",
    "book_end = raw_book.find(end_delimiter)\n",
    "cleaned_book = raw_book[book_start:book_end].replace('\\r\\n', ' ')\n",
    "\n",
    "print('length of the text', len(cleaned_book))"
   ]
  },
  {
   "cell_type": "markdown",
   "metadata": {},
   "source": [
    "Vous allez maintenant segmenter le texte en phrases et les écrire dans un fichier avec une phrase par ligne.  Vous allez également segmenter chaque phrase en _tokens_ (mots et ponctuations), et créer un autre fichier, avec une phrase par ligne, et un espace entre chaque _token_.  Vous aurez besoin des fonctions suivantes de nltk:\n",
    "* `nltk.sent_tokenize(...)` (documentée [ici](https://www.nltk.org/api/nltk.tokenize.html#nltk.tokenize.word_tokenize)) (notez que le nom \"sentence tokenize\" n'est pas très logique)\n",
    "* `nltk.word_tokenize(...)` (documentée [ici](https://www.nltk.org/api/nltk.tokenize.html#nltk.tokenize.sent_tokenize))"
   ]
  },
  {
   "cell_type": "markdown",
   "metadata": {},
   "source": [
    "**Segmentez le texte en phrases avec NLTK.** Affichez le nombre de phrases obtenues, et un court extrait de 5-6 phrases.  Comment appréciez-vous la qualité de la segmentation ?  *Note :* si certains caractères spéciaux vous semblent péjorer la segmentation, vous pouvez les remplacer dans la chaîne globale avec la fonction `.replace('s1', 's2')`."
   ]
  },
  {
   "cell_type": "code",
   "execution_count": 65,
   "metadata": {
    "scrolled": true
   },
   "outputs": [
    {
     "name": "stdout",
     "output_type": "stream",
     "text": [
      "extract: ['“Io!', 'Paean!', 'Io!', 'sing.', 'To the finny people’s king.']\n"
     ]
    }
   ],
   "source": [
    "# Please write your Python code in this cell and execute it.\n",
    "sentences = nltk.sent_tokenize(cleaned_book)\n",
    "\n",
    "print('extract:', sentences[395:400])\n",
    "# The spliting of sentences seems to work pretty well"
   ]
  },
  {
   "cell_type": "markdown",
   "metadata": {},
   "source": [
    "Enregistrez le résultat au format texte, en écrivant chaque phrase sur une ligne.  Vérifiez le résultat en examinant le fichier avec un éditeur de texte."
   ]
  },
  {
   "cell_type": "code",
   "execution_count": null,
   "metadata": {},
   "outputs": [],
   "source": [
    "import os"
   ]
  },
  {
   "cell_type": "code",
   "execution_count": 24,
   "metadata": {},
   "outputs": [],
   "source": [
    "filename1 = \"sample_text_1.txt\"\n",
    "# Pour un fichier local : chemin relatif par rapport au notebook\n",
    "# Pour Google Colab, p.ex.: /content/gdrive/My Drive/sample_text_1.txt\n",
    "\n",
    "# Please write your Python code below and execute it.\n",
    "with open(filename1, 'w', encoding='utf8') as fd:\n",
    "    for sentence in sentences:\n",
    "        fd.write(sentence)\n",
    "        fd.write('\\n')"
   ]
  },
  {
   "cell_type": "markdown",
   "metadata": {},
   "source": [
    "**Segmentez maintenant chaque phrase en tokens (mots et ponctuations).**  Stockez le résultat dans une nouvelle variable (liste de listes).  Affichez quelques phrases et commentez la qualité de la tokenisation."
   ]
  },
  {
   "cell_type": "code",
   "execution_count": 66,
   "metadata": {},
   "outputs": [
    {
     "name": "stdout",
     "output_type": "stream",
     "text": [
      "extract: [['CHAPTER', '12', '.'], ['Biographical', '.'], ['CHAPTER', '13', '.'], ['Wheelbarrow', '.'], ['CHAPTER', '14', '.']]\n"
     ]
    }
   ],
   "source": [
    "# Please write your Python code in this cell and execute it.\n",
    "tokenized_sentences = [nltk.word_tokenize(sentence) for sentence in sentences]\n",
    "\n",
    "print('extract:', tokenized_sentences[25:30])"
   ]
  },
  {
   "cell_type": "markdown",
   "metadata": {},
   "source": [
    "Calculez le nombre total de _tokens_ obtenus."
   ]
  },
  {
   "cell_type": "code",
   "execution_count": 26,
   "metadata": {},
   "outputs": [
    {
     "name": "stdout",
     "output_type": "stream",
     "text": [
      "length:  8786\n"
     ]
    }
   ],
   "source": [
    "# Please write your Python code in this cell and execute it.\n",
    "nb_tokens = sum(len(s) for s in tokenized_sentences)\n",
    "\n",
    "print('length: ', nb_tokens)"
   ]
  },
  {
   "cell_type": "markdown",
   "metadata": {},
   "source": [
    "Enregistrez le résultat au format texte, en écrivant chaque phrase sur une ligne et en insérant un espace entre chaque _token_.  Vérifiez le résultat en examinant le fichier avec un éditeur de texte."
   ]
  },
  {
   "cell_type": "code",
   "execution_count": 27,
   "metadata": {},
   "outputs": [],
   "source": [
    "filename2 = \"sample_text_2.txt\"\n",
    "# Pour un fichier local : chemin relatif par rapport au notebook\n",
    "# Pour Google Colab, p.ex.: /content/gdrive/My Drive/sample_text_2.txt\n",
    "\n",
    "# Please write your Python code below and execute it.\n",
    "with open(filename2, 'w', encoding='utf8') as fd:\n",
    "    for sentence_token in tokenized_sentences:\n",
    "        fd.write(' '.join(sentence_token))\n",
    "        fd.write('\\n')"
   ]
  },
  {
   "cell_type": "markdown",
   "metadata": {},
   "source": [
    "Il est également possible de *tokeniser un texte sans le segmenter préalablement en phrases*.\n",
    "* Effectuez cette opération directement sur la chaîne de caractères contenant tout le texte.  \n",
    "* Affichez et observez un court extrait. \n",
    "* Demandez le nombre total de tokens et comparez-le avec le nombre précédent.  \n",
    "* Il n'est pas demandé ici d'écrire le résultat dans un fichier."
   ]
  },
  {
   "cell_type": "code",
   "execution_count": 81,
   "metadata": {},
   "outputs": [
    {
     "name": "stdout",
     "output_type": "stream",
     "text": [
      "extract: ['Carpet-Bag', '.', 'CHAPTER', '3', '.']\n",
      "length: 255957\n"
     ]
    }
   ],
   "source": [
    "# Please write your Python code in this cell and execute it.\n",
    "tokens = nltk.word_tokenize(cleaned_book)\n",
    "\n",
    "print('extract:', tokens[30:35])\n",
    "print('length:', len(tokens))"
   ]
  },
  {
   "cell_type": "markdown",
   "metadata": {},
   "source": [
    "## 3. Calculer diverses statistiques avec NLTK\n",
    "Pour calculer des statistiques, il faut d'abord créer un objet de type `nltk.Text`.  Ces objets peuvent être créés avec : \n",
    "1. la chaîne de caractères constituant le texte\n",
    "2. la liste de tous les mots du texte (chaînes)\n",
    "3. la liste de toutes les phrases (liste de listes)\n",
    "\n",
    "**Attention:**\n",
    "\n",
    "* seule l'option (2) permet d'utiliser correctement les méthodes de `nltk.Text`\n",
    "* les méthodes `nltk.word_tokenize()` et `nltk.sent_tokenize()` s'appliquent à des chaînes, pas des `nltk.Text`"
   ]
  },
  {
   "cell_type": "markdown",
   "metadata": {},
   "source": [
    "Créez et stockez dans une variable un objet `nltk.Text` à partir de la liste des tokens de votre texte.  (Vous pouvez appeler ici `nltk.word_tokenize`.)"
   ]
  },
  {
   "cell_type": "code",
   "execution_count": 82,
   "metadata": {},
   "outputs": [
    {
     "name": "stdout",
     "output_type": "stream",
     "text": [
      "<Text: MOBY-DICK ; or , THE WHALE . By...>\n"
     ]
    }
   ],
   "source": [
    "# Please write your Python code in this cell and execute it.\n",
    "text = nltk.Text(tokens)\n",
    "\n",
    "print(text)"
   ]
  },
  {
   "cell_type": "markdown",
   "metadata": {},
   "source": [
    "Le [chapitre 1 du livre NLTK](http://www.nltk.org/book/ch01.html) montre des exemples d'opérations que l'on peut effectuer sur un objet `nltk.Text`.  Par exemple, on peut afficher les occurrences d'un mot et leur contexte immédiat avec la méthode `concordance`, ou trouver des mots qui ont des contextes semblables à un mot donné avec `similar`.  Veuillez expérimenter ci-dessous avec ces deux méthodes et afficher un résultat à chaque fois."
   ]
  },
  {
   "cell_type": "code",
   "execution_count": 83,
   "metadata": {},
   "outputs": [
    {
     "name": "stdout",
     "output_type": "stream",
     "text": [
      "Words in concordance: \n",
      "Displaying 25 of 1070 matches:\n",
      "MOBY-DICK ; or , THE WHALE . By Herman Melville CONTENTS ETYMOL\n",
      " . CHAPTER 42 . The Whiteness of the Whale . CHAPTER 43 . Hark ! CHAPTER 44 . T\n",
      "he Line . CHAPTER 61 . Stubb Kills a Whale . CHAPTER 62 . The Dart . CHAPTER 63\n",
      " Stubb ’ s Supper . CHAPTER 65 . The Whale as a Dish . CHAPTER 66 . The Shark M\n",
      "ER 73 . Stubb and Flask kill a Right Whale ; and Then Have a Talk over Him . CH\n",
      "lk over Him . CHAPTER 74 . The Sperm Whale ’ s Head—Contrasted View . CHAPTER 7\n",
      "rasted View . CHAPTER 75 . The Right Whale ’ s Head—Contrasted View . CHAPTER 7\n",
      "s . CHAPTER 103 . Measurement of The Whale ’ s Skeleton . CHAPTER 104 . The Fos\n",
      " Skeleton . CHAPTER 104 . The Fossil Whale . CHAPTER 105 . Does the Whale ’ s M\n",
      "ossil Whale . CHAPTER 105 . Does the Whale ’ s Magnitude Diminish ? —Will He Pe\n",
      "e Bachelor . CHAPTER 116 . The Dying Whale . CHAPTER 117 . The Whale Watch . CH\n",
      " The Dying Whale . CHAPTER 117 . The Whale Watch . CHAPTER 118 . The Quadrant .\n",
      " which is not true. ” —_Hackluyt._ “ WHALE . * * * Sw. and Dan . _hval_ . This \n",
      "lted. ” —_Webster ’ s Dictionary._ “ WHALE . * * * It is more immediately from \n",
      ". WAL , _Dutch_ . HWAL , _Swedish_ . WHALE , _Icelandic_ . WHALE , _English_ . \n",
      " , _Swedish_ . WHALE , _Icelandic_ . WHALE , _English_ . BALLENA , _Spanish_ . \n",
      "t least , take the higgledy-piggledy whale statements , however authentic , in \n",
      " dreadful gulf of this monster ’ s ( whale ’ s ) mouth , are immediately lost a\n",
      " patient Job. ” —_Rabelais_ . “ This whale ’ s liver was two cartloads. ” —_Sto\n",
      " Touching that monstrous bulk of the whale or ork we have received nothing cert\n",
      "restless paine , Like as the wounded whale to shore flies thro ’ the maine. ” —\n",
      ". Of Sperma Ceti and the Sperma Ceti Whale . Vide his V. E._ “ Like Spencer ’ s\n",
      "n ’ s Annus Mirabilis_ . “ While the whale is floating at the stern of the ship\n",
      "Jonas-in-the-Whale .... Some say the whale can ’ t open his mouth , but that is\n",
      " masts to see whether they can see a whale , for the first discoverer has a duc\n"
     ]
    }
   ],
   "source": [
    "# Please write your Python code in this cell and execute it.\n",
    "word = \"whale\"\n",
    "\n",
    "print(\"Words in concordance: \")\n",
    "text.concordance(word)"
   ]
  },
  {
   "cell_type": "code",
   "execution_count": 84,
   "metadata": {},
   "outputs": [
    {
     "name": "stdout",
     "output_type": "stream",
     "text": [
      "Similar words: \n",
      "ship boat sea world time man captain deck whales pequod crew line air\n",
      "head other water side moment and thing\n"
     ]
    }
   ],
   "source": [
    "# Please write your Python code in this cell and execute it.\n",
    "print(\"Similar words: \")\n",
    "text.similar(word)"
   ]
  },
  {
   "cell_type": "markdown",
   "metadata": {},
   "source": [
    "En utilisant la méthode `collocation_list`, veuilez afficher les 10 collocations les plus fréquentes dans votre texte."
   ]
  },
  {
   "cell_type": "code",
   "execution_count": 85,
   "metadata": {},
   "outputs": [
    {
     "data": {
      "text/plain": [
       "[('Sperm', 'Whale'),\n",
       " ('Moby', 'Dick'),\n",
       " ('White', 'Whale'),\n",
       " ('old', 'man'),\n",
       " ('Right', 'Whale'),\n",
       " ('Captain', 'Ahab'),\n",
       " ('sperm', 'whale'),\n",
       " ('New', 'Bedford'),\n",
       " ('Captain', 'Peleg'),\n",
       " ('Mr.', 'Starbuck')]"
      ]
     },
     "execution_count": 85,
     "metadata": {},
     "output_type": "execute_result"
    }
   ],
   "source": [
    "# Please write your Python code in this cell and execute it.\n",
    "text.collocation_list(10)"
   ]
  },
  {
   "cell_type": "markdown",
   "metadata": {},
   "source": [
    "On peut déterminer le vocabulaire d'un texte (c'est-à-dire la liste des _types_) simplement en convertissant la liste des mots (occurrences ou _tokens_) à un `set` en Python.  \n",
    "* Veuillez calculer ainsi le vocabulaire de votre texte.\n",
    "* Combien de mots différents a-t-il ?  (En incluant les ponctuations et tout autre symbole.) \n",
    "* Quels sont les mots qui ont plus de 15 lettres ?  (Ou une autre taille qui vous semble intéressante.)"
   ]
  },
  {
   "cell_type": "code",
   "execution_count": 86,
   "metadata": {},
   "outputs": [
    {
     "name": "stdout",
     "output_type": "stream",
     "text": [
      "Number of different words:  21897\n",
      "Words greater than 15 letters:  ['mankind—devilish', 'subterraneousness', 'fancied—stopping', 'parting—admitted', 'skeleton—brushed', 'death-harvesting', '_breach_—somewhere', 'irresistibleness', 'whiteness—though', 'spring—slap-jacks', 'Queequeg—especially', 'Povelson—declaring', 'jack-of-all-trades.', 'circumnavigations', 'right-mindedness', 'Narwhale—however', 'homage-rendering', 'serpent-snapping', 'poverty-stricken', 'cannibals—morally', 'heaven-insulting', 'dimly-discovered', 'life-buoy-coffin', 'pilgrim-worshipped', 'cannibalistically', 'ever-contracting', 'physiognomically', 'lightning-rod-end', 'surface—involuntarily', 'decapitation—and', 'clearest-grained', 'wide-slaughtering', 'sticking-plasters', 'immortality-preserver', 'stander-of-mast-heads', 'Captain—Mounttop', 'pike-and-gaffman', 'reveries—tallied', 'Coke-upon-Littleton', 'sleeping-partner', 'great-grandfather', 'cowardly—quickest', 'circumnavigating', 'Articles—leaving', 'cathedral-toppling', 'characteristically', 'apprehensiveness', 'Forty—forty—forty', 'top-gallant-mast', 'shipkeepers—that', 'swayings—coyings—flutterings', 'tribute-rendering', 'sticking-plaster', 'Jonas-in-the-Whale', 'line-of-battle-ship', 'life-preserver—an', 'drugged-harpoons', 'half-splintering', 'DUODECIMOES.—These', 'Forty-barrel-bull', 'half-articulated', 'joy-childlessness', 'time—queer—sir—queer', 'half-apprehensions', 'brimstone—devils', 'tastefully-ornamented', 'wonder-freighted', 'empty-handedness', 'country-schoolmaster', 'consternation—so', 'responsibilities', 'there—there—_thar_', 'Bouton-de-Rose-bud', 'medallion-shaped', 'broad-shouldered', 'cheerful-looking', 'supernaturalness', 'Daggoo—instinctively', 'Sub-Sub-Librarian', 'Nantucketer—ever', 'top-gallant-sails', 'indiscriminately', 'superstitiousness', 'whale-naturalists', 'children-seeking', 'Physiognomically', 'larboard—larboard', 'intervals—stepped', 'cruising-grounds', 'cuttle-fish—lurks', 'astrological-looking', 'death-forfeitures', 'thought-engendering', 'sulphur-freighted', 'Andromeda—indeed', 'strange-thoughted', 'Scales—happiness', 'joint-commanders', 'Tiger-lilies—what', 'indispensableness', 'semi-intelligent', 'uncomfortableness', 'knitting-needles', 'circumnavigation', 'sledge-hammering', 'fishers—Right-Whale', 'gaped—open-mouthed', 'feelings—likewise', 'standers-of-mast-heads', 'casualty—remaining', 'hard-heartedness', 'topsail-yard-arms', 'blows—bowes—bo-o-os', 'inter-indebtedness', 'comprehensiveness', 'Season-on-the-Line', 'cabalistically-cut', 'mizzen-mast-heads', 'floated—tomorrow', 'Forty-barrel-bull—poor', 'rehearsing—singing', 'sidelong-rushing', 'oars—harpooneers', 'performances—this', 'forward-slanting', 'yard_.—_Tashtego', 'deceptive—spoutings', 'explanation—that', 'top-gallant-sail', 'naturalists—Olassen', 'cruel—forbidding—now', 'exclamation-like—that', 'bridal-bedsteads', 'interpreters—myself', 'hermaphroditical', 'all—Presbyterians', 'discovery-vessel', 'uncompromisedness', 'twisted—corkscrewed', 'higgledy-piggledy', 'necessity—nowise', 'simultaneousness', 'precisely—having', 'counter-balanced', 'East-south-east—which', 'Usher—threadbare', 'Starbuck—sea-coal', 'post-mortemizing', 'Circumnavigation_', 'not-yet-subsided', 'devious-cruising', 'hop-skip-and-jump', 'preternaturalness', 'knight-errantism', 'uninterpenetratingly', 'incompatible—all', 'paté-de-foie-gras', 'within—through—and', 'blandishments—he', 'fellow-creatures', 'dentistical-looking', 'self-collectedness', 'simply—particularly', 'message-carrying', 'undiscriminating', 'Star-bo-l-e-e-n-s', 'forty-barrel-bulls', 'widely-separated', 'ocean-perishing—straight']\n"
     ]
    }
   ],
   "source": [
    "# Please write your Python code in this cell and execute it.\n",
    "vocabulary = set(text)\n",
    "print(\"Number of different words: \", len(vocabulary))\n",
    "print(\"Words greater than 15 letters: \", list(filter(lambda x: len(x) > 15, vocabulary)))"
   ]
  },
  {
   "cell_type": "markdown",
   "metadata": {},
   "source": [
    "**Distributions de fréquence (Frequency Distributions)**\n",
    "\n",
    "NLTK peut facilement calculer les fréquences de tous les _tokens_ dans un `nltk.Text`.  Le résultat est stocké dans un objet de type `FreqDist` (pour _frequency distribution_) comme montré dans la [section 3.1 du chapitre 1 du livre NLTK](http://www.nltk.org/book/ch01.html#frequency-distributions).  À partir de là, on peut déterminer les mots les plus fréquents.\n",
    "\n",
    "Veuillez construire la distribution de fréquences de votre texte."
   ]
  },
  {
   "cell_type": "code",
   "execution_count": 112,
   "metadata": {},
   "outputs": [
    {
     "name": "stdout",
     "output_type": "stream",
     "text": [
      "<FreqDist with 21897 samples and 255957 outcomes>\n"
     ]
    }
   ],
   "source": [
    "# Please write your Python code in this cell and execute it.\n",
    "word_frequency = nltk.FreqDist(text)\n",
    "print(word_frequency)"
   ]
  },
  {
   "cell_type": "markdown",
   "metadata": {},
   "source": [
    "Affichez les mots qui ont plus de 4 lettres parmi les 70 mots les plus fréquents."
   ]
  },
  {
   "cell_type": "code",
   "execution_count": 113,
   "metadata": {},
   "outputs": [
    {
     "data": {
      "text/plain": [
       "[('whale', 771), ('there', 685), ('which', 634), ('their', 613)]"
      ]
     },
     "execution_count": 113,
     "metadata": {},
     "output_type": "execute_result"
    }
   ],
   "source": [
    "# Please write your Python code in this cell and execute it.\n",
    "word_frequency_list = word_frequency.most_common(70)\n",
    "list(filter(lambda x: len(x[0]) > 4, word_frequency_list))"
   ]
  },
  {
   "cell_type": "markdown",
   "metadata": {},
   "source": [
    "## 4. Graphiques\n",
    "La librairie `matplotlib` permet d'afficher les statistiques des textes sous forme graphique.  Pour la rendre accessible dans le _notebook_ (une fois installée dans Python), il faut exécuter les deux lignes suivantes.\n",
    "\n",
    "Nous allons utiliser les fonctions graphiques de NLTK, mais il est possible de générer directement des graphiques à partir de deux listes `x_values` et `y_values` avec la commande `matplotlib.pyplot.plot(x_values, y_values)`."
   ]
  },
  {
   "cell_type": "code",
   "execution_count": 104,
   "metadata": {},
   "outputs": [],
   "source": [
    "import matplotlib.pyplot as plt\n",
    "%matplotlib inline"
   ]
  },
  {
   "cell_type": "markdown",
   "metadata": {},
   "source": [
    "Affichez le graphique cumulatif des nombres d'occurrences des 70 mots les plus fréquents de votre texte, en vous inspirant de la  [section 3.1 du chapitre 1 du livre NLTK](http://www.nltk.org/book/ch01.html#frequency-distributions)."
   ]
  },
  {
   "cell_type": "code",
   "execution_count": 114,
   "metadata": {},
   "outputs": [
    {
     "data": {
      "image/png": "[encoded data removed]",
      "text/plain": [
       "<Figure size 432x288 with 1 Axes>"
      ]
     },
     "metadata": {
      "needs_background": "light"
     },
     "output_type": "display_data"
    },
    {
     "data": {
      "text/plain": [
       "<AxesSubplot:xlabel='Samples', ylabel='Cumulative Counts'>"
      ]
     },
     "execution_count": 114,
     "metadata": {},
     "output_type": "execute_result"
    }
   ],
   "source": [
    "# Please write your Python code in this cell and execute it.\n",
    "word_frequency.plot(70, cumulative=True)"
   ]
  },
  {
   "cell_type": "markdown",
   "metadata": {},
   "source": [
    "Maintenant, construisez une liste avec la longueur de chaque _token_ du texte (la liste aura donc autant de nombres que de tokens).  Créez un nouvel objet `FreqDist` à partir de cette liste, et affichez la distribution (cette fois-ci _non_-cumulative) des nombres d'occurrences.  Quelle est la longueur la plus fréquente ?  Comment évolue la longueur en fonction de la fréquence ?"
   ]
  },
  {
   "cell_type": "code",
   "execution_count": 111,
   "metadata": {},
   "outputs": [
    {
     "data": {
      "image/png": "[encoded data removed]",
      "text/plain": [
       "<Figure size 432x288 with 1 Axes>"
      ]
     },
     "metadata": {
      "needs_background": "light"
     },
     "output_type": "display_data"
    },
    {
     "data": {
      "text/plain": [
       "<AxesSubplot:xlabel='Samples', ylabel='Counts'>"
      ]
     },
     "execution_count": 111,
     "metadata": {},
     "output_type": "execute_result"
    }
   ],
   "source": [
    "# Please write your Python code in this cell and execute it.\n",
    "word_lengths = [len(word) for word in text]\n",
    "\n",
    "length_frequency = nltk.FreqDist(word_lengths)\n",
    "\n",
    "length_frequency.plot(cumulative=False)"
   ]
  },
  {
   "cell_type": "markdown",
   "metadata": {},
   "source": [
    "**Approximation de la Loi de Zipf.**\n",
    "\n",
    "Générez la liste des fréquences des mots de votre texte par ordre décroissant (sans les mots, seulement les valeurs des fréquences).  Limitez cette liste à *N&nbsp;* valeurs (par exemple *N&nbsp;* = 100).  Affichez avec `matplotlib.pyplot.plot` la courbe en fonction du rang, c'est-à-dire le rang (1, 2, 3, ..., *N&nbsp;*) sur l'axe *x&nbsp;* et la fréquence sur l'axe *y&nbsp;*.\n",
    "\n",
    "Ajoutez une deuxième courbe (dans la même commande `plot`) de la forme *y&nbsp;* = *a&nbsp;* / (*x&nbsp;* + *b&nbsp;*) en choississant des valeurs de *a&nbsp;* et *b&nbsp;* qui vous rapprochent autant que possible de la courbe des fréquences."
   ]
  },
  {
   "cell_type": "code",
   "execution_count": 173,
   "metadata": {},
   "outputs": [
    {
     "data": {
      "text/plain": [
       "[<matplotlib.lines.Line2D at 0x7f11171cb460>]"
      ]
     },
     "execution_count": 173,
     "metadata": {},
     "output_type": "execute_result"
    },
    {
     "data": {
      "image/png": "[encoded data removed]",
      "text/plain": [
       "<Figure size 432x288 with 1 Axes>"
      ]
     },
     "metadata": {
      "needs_background": "light"
     },
     "output_type": "display_data"
    }
   ],
   "source": [
    "import numpy as np\n",
    "# Please write your Python code in this cell and execute it.\n",
    "limit = 100\n",
    "\n",
    "frequencies = list(word_frequency.values())\n",
    "frequencies.sort(reverse=True)\n",
    "total = sum(frequencies)\n",
    "frequencies = list(map(lambda x: x/total, frequencies))\n",
    "frequencies = frequencies[:limit]\n",
    "\n",
    "x = np.linspace(0,limit,limit)\n",
    "y = 0.12 / (x+1.7)\n",
    "plt.plot(frequencies)\n",
    "plt.plot(x, y)"
   ]
  },
  {
   "cell_type": "markdown",
   "metadata": {},
   "source": [
    "## Fin de la partie 1b\n",
    "Veuillez nettoyer autant que possible ce _notebook_, exécutez une dernière fois toutes les cellules pour obtenir les résultats demandés, et enregistrez le _notebook_.  Puis ajoutez-le dans une archive _zip_ avec les _notebook_ des parties 1c et 1d, et soumettez l'archive individuellement sur Cyberlearn (_Laboratoire 1_). "
   ]
  }
 ],
 "metadata": {
  "kernelspec": {
   "display_name": "Python 3",
   "language": "python",
   "name": "python3"
  },
  "language_info": {
   "codemirror_mode": {
    "name": "ipython",
    "version": 3
   },
   "file_extension": ".py",
   "mimetype": "text/x-python",
   "name": "python",
   "nbconvert_exporter": "python",
   "pygments_lexer": "ipython3",
   "version": "3.8.8"
  }
 },
 "nbformat": 4,
 "nbformat_minor": 2
}

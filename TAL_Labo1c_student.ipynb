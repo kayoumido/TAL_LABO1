{
 "cells": [
  {
   "cell_type": "markdown",
   "metadata": {},
   "source": [
    "# TAL Labo 1c : mêmes opérations sur une page web en anglais"
   ]
  },
  {
   "cell_type": "markdown",
   "metadata": {},
   "source": [
    "**Objectif** \n",
    "\n",
    "Dans cette troisième partie du Labo1, vous allez refaire une partie des traitements de la partie 1b, mais cette fois-ci sur une page web, spécifiquement une page Wikipedia en anglais (suggestion : \"Switzerland\").  L'objectif est de réviser les principales commandes apprises, et de traiter le format HTML."
   ]
  },
  {
   "cell_type": "code",
   "execution_count": 69,
   "metadata": {},
   "outputs": [],
   "source": [
    "import nltk\n",
    "import os\n",
    "from urllib import request\n",
    "import matplotlib.pyplot as plt\n",
    "%matplotlib inline"
   ]
  },
  {
   "cell_type": "markdown",
   "metadata": {},
   "source": [
    "S'inspirer du [chapitre 3 du livre NLTK](http://www.nltk.org/book/ch03.html) pour faire une requête et récupérer le contenu de la page indiquée dans `url2`.  Quelle est la longueur de la chaîne de caractères obtenue ?"
   ]
  },
  {
   "cell_type": "code",
   "execution_count": 3,
   "metadata": {},
   "outputs": [
    {
     "name": "stdout",
     "output_type": "stream",
     "text": [
      "Number of characters on wikipedia switzerland: 803634\n"
     ]
    }
   ],
   "source": [
    "url2 = \"https://en.wikipedia.org/wiki/Switzerland\" \n",
    "response = request.urlopen(url2)\n",
    "html2 = response.read().decode('utf8')\n",
    "\n",
    "print(\"Number of characters on wikipedia switzerland:\", len(html2))"
   ]
  },
  {
   "cell_type": "markdown",
   "metadata": {},
   "source": [
    "Nous utilserons l'outil `BeautifulSoup` disponible sous forme de module Python pour extraire tout le texte de la page HTML.  Si le contenu de la page est stocké dans `html2`, nous extrayons le texte dans `raw2`."
   ]
  },
  {
   "cell_type": "code",
   "execution_count": 6,
   "metadata": {},
   "outputs": [],
   "source": [
    "from bs4 import BeautifulSoup"
   ]
  },
  {
   "cell_type": "code",
   "execution_count": 92,
   "metadata": {},
   "outputs": [],
   "source": [
    "raw2 = BeautifulSoup(html2).get_text()"
   ]
  },
  {
   "cell_type": "markdown",
   "metadata": {},
   "source": [
    "Réutilisez la méthode de la partie 1b pour enlever le début et la fin de la chaîne `raw2`, car ils contiennent du texte qui n'est pas pertinent pour notre analyse (\"ne parle pas de la Suisse\").  Quelle est la longueur du résultat ? Afficher aussi ses 100 premiers et 100 derniers caractères (p.ex. `raw2trimmed`)."
   ]
  },
  {
   "cell_type": "code",
   "execution_count": 58,
   "metadata": {},
   "outputs": [
    {
     "name": "stdout",
     "output_type": "stream",
     "text": [
      "Length of the article:  93548\n",
      "\n",
      "First 100 characters: \n",
      "Main article: Name of Switzerland\n",
      "\n",
      "The English name Switzerland is a compound containing Switzer, an\n",
      "\n",
      "Last 100 characters: \n",
      "elated articles\n",
      "Outline of Switzerland\n",
      "List of sovereign states and dependent territories in Europe\n",
      "\n"
     ]
    }
   ],
   "source": [
    "# Please write your Python code below and execute it.\n",
    "start_delimiter = \"Main article: Name of Switzerland\"\n",
    "end_delimiter = \"Notes and references\"\n",
    "\n",
    "article_start = raw2.find(start_delimiter)\n",
    "raw2 = raw2[article_start:]\n",
    "article_end = raw2.find(end_delimiter)\n",
    "cleaned_article = raw2[:article_end].replace('\\r\\n', ' ')\n",
    "\n",
    "print(\"Length of the article: \", len(cleaned_article))\n",
    "print()\n",
    "print(\"First 100 characters: \")\n",
    "print(cleaned_article[:100])\n",
    "print()\n",
    "print(\"Last 100 characters: \")\n",
    "print(cleaned_article[-100:])"
   ]
  },
  {
   "cell_type": "markdown",
   "metadata": {},
   "source": [
    "Effectuer la segmentation en phrases, puis tokeniser chaque phrase.  Ecrivez le résultat (une phrase par ligne, espaces entre *tokens*) dans un fichier `sample_web_page.txt` et inspectez-le avec un éditeur de texte.  Observez-vous des imperfections ?"
   ]
  },
  {
   "cell_type": "code",
   "execution_count": 39,
   "metadata": {},
   "outputs": [],
   "source": [
    "filename = \"sample_web_page.txt\"\n",
    "# Please write your Python code below and execute it.\n",
    "sentences = nltk.sent_tokenize(cleaned_article)\n",
    "tokenized_sentences = [nltk.word_tokenize(sentence) for sentence in sentences]\n",
    "\n",
    "with open(filename, 'w', encoding='utf8') as fd:\n",
    "    for sentence in tokenized_sentences:\n",
    "        fd.write(' '.join(sentence))\n",
    "        fd.write('\\n')"
   ]
  },
  {
   "cell_type": "markdown",
   "metadata": {},
   "source": [
    "Effectuer maintenant la tokenisation de cette page **sans** faire de segmentation en phrases.  Stockez le résultat dans une variable (p.ex. `words2`) sans écrire de fichier.  Combien de tokens possède ce texte ?"
   ]
  },
  {
   "cell_type": "code",
   "execution_count": 35,
   "metadata": {},
   "outputs": [
    {
     "name": "stdout",
     "output_type": "stream",
     "text": [
      "Number of tokens:  17581\n"
     ]
    }
   ],
   "source": [
    "# Please write your Python code below and execute it.\n",
    "words2 = nltk.word_tokenize(cleaned_article)\n",
    "\n",
    "print(\"Number of tokens: \", len(words2))"
   ]
  },
  {
   "cell_type": "markdown",
   "metadata": {},
   "source": [
    "Créez un objet de type nltk.Text à partir de la liste de *tokens* `words2`.  Appliquez-lui à titre d'exemple les méthodes `concordance`, `similar` et `collocations`. "
   ]
  },
  {
   "cell_type": "code",
   "execution_count": 97,
   "metadata": {},
   "outputs": [
    {
     "name": "stdout",
     "output_type": "stream",
     "text": [
      "Words in concordance: \n",
      "Displaying 4 of 4 matches:\n",
      "Chur Valais 23 Sion Jura 26 Delémont Vaud 22 Lausanne Lucerne 3 Lucerne Zug 9 \n",
      ",722 13 Köniz Bern 42,044 4 Lausanne Vaud 139,408 14 La Chaux-de-Fonds Neuchât\n",
      "anton of Geneva ( 35 % ) , canton of Vaud ( 26 % ) , or Zürich city ( city : >\n",
      " wine is produced mainly in Valais , Vaud ( Lavaux ) , Geneva and Ticino , wit\n",
      "\n",
      "Similar words: \n",
      "unrest cantonal capital\n",
      "\n",
      "Collocations: \n",
      "Main article; European Union; United Nations; St. Gallen; Federal\n",
      "Council; Main articles; bilateral agreements; Federal Assembly;\n",
      "Helvetic Republic; per capita; direct democracy; Swiss Confederacy;\n",
      "Augusta Raurica; Grand Slam; Paul Scherrer; ice hockey; European\n",
      "countries; See also; Swiss plateau; Old Swiss\n"
     ]
    }
   ],
   "source": [
    "# Please write your Python code below and execute it.\n",
    "text = nltk.Text(words2)\n",
    "\n",
    "word = \"Vaud\"\n",
    "\n",
    "print(\"Words in concordance: \")\n",
    "text.concordance(word)\n",
    "\n",
    "print()\n",
    "\n",
    "print(\"Similar words: \")\n",
    "text.similar(word)\n",
    "\n",
    "print()\n",
    "\n",
    "print(\"Collocations: \")\n",
    "text.collocations()"
   ]
  },
  {
   "cell_type": "markdown",
   "metadata": {},
   "source": [
    "Déterminez le vocabulaire de cette page (la liste des _types_) en convertissant la liste des _tokens_ en un `set`.  \n",
    "* Veuillez calculer ainsi le vocabulaire de votre texte.\n",
    "* Combien de mots différents a-t-il ?  (En incluant les ponctuations et tout autre symbole.) \n",
    "* Quels sont les mots qui ont plus de 15 lettres ?  (Ou une autre taille qui vous semble intéressante.)"
   ]
  },
  {
   "cell_type": "code",
   "execution_count": 46,
   "metadata": {},
   "outputs": [
    {
     "name": "stdout",
     "output_type": "stream",
     "text": [
      "Number of different words:  4134\n",
      "Words greater than 15 letters:  ['monochromatically', 'Romansh-speaking', 'autobahn/autoroute', 'energy-producing', 'SwitzerlandSwiss', 'around-the-clock', 'authoritarianism', 'Hydroelectricity', 'Schneider-Ammann', 'Basel-Landschaft', 'machines/electronics', 'electricity-generating', 'Donau-Iller-Rhine-Limes', 'General-in-Chief', 'hydroelectricity', 'commander-in-chief', 'counter-proposal', 'Switzerland-related', 'Sonderbundskrieg', 'Telecommunication', 'Non-Proliferation', 'regions.Agricultural', 'Italian-speaking', 'Gallen-Altenrhein', 'instruments/watches', 'Switzerland–European']\n"
     ]
    }
   ],
   "source": [
    "# Please write your Python code below and execute it.\n",
    "vocabulary = set(text)\n",
    "print(\"Number of different words: \", len(vocabulary))\n",
    "print(\"Words greater than 15 letters: \", list(filter(lambda x: len(x) > 15, vocabulary)))"
   ]
  },
  {
   "cell_type": "markdown",
   "metadata": {},
   "source": [
    "Construisez un objet `FreqDist` avec les mots de cette page, en convertissant en minuscules tous les mots contenant seulement des lettres (utilisez la méthode `.isalpha()` de Python).  Quels sont les 30 mots les plus fréquents ?"
   ]
  },
  {
   "cell_type": "code",
   "execution_count": 50,
   "metadata": {},
   "outputs": [
    {
     "name": "stdout",
     "output_type": "stream",
     "text": [
      "[('the', 1090), (',', 831), ('of', 619), ('.', 593), ('and', 462), ('in', 436), ('[', 341), (']', 341), ('(', 246), (')', 246), ('to', 229), ('Switzerland', 213), ('a', 194), ('Swiss', 179), ('The', 164), ('%', 146), ('is', 143), ('as', 113), ('are', 108), ('for', 102), ('was', 97), ('by', 97), ('from', 81), ('with', 81), ('has', 65), (\"'s\", 63), ('at', 59), (':', 58), ('on', 55), ('In', 54)]\n"
     ]
    }
   ],
   "source": [
    "# Please write your Python code below and execute it.\n",
    "cleaned_text = [word.lower() if word.isalpha else word for word in text]\n",
    "\n",
    "word_frequency = nltk.FreqDist(text)\n",
    "\n",
    "most_common_words = word_frequency.most_common(30)\n",
    "print(most_common_words)"
   ]
  },
  {
   "cell_type": "markdown",
   "metadata": {},
   "source": [
    "Affichez le graphique cumulatif du nombre d'occurrences des 70 mots les plus fréquents de votre texte."
   ]
  },
  {
   "cell_type": "code",
   "execution_count": 51,
   "metadata": {},
   "outputs": [
    {
     "data": {
      "image/png": "[encoded data removed]",
      "text/plain": [
       "<Figure size 432x288 with 1 Axes>"
      ]
     },
     "metadata": {
      "needs_background": "light"
     },
     "output_type": "display_data"
    },
    {
     "data": {
      "text/plain": [
       "<AxesSubplot:xlabel='Samples', ylabel='Cumulative Counts'>"
      ]
     },
     "execution_count": 51,
     "metadata": {},
     "output_type": "execute_result"
    }
   ],
   "source": [
    "# Please write your Python code below and execute it.\n",
    "word_frequency.plot(70, cumulative=True)"
   ]
  },
  {
   "cell_type": "markdown",
   "metadata": {},
   "source": [
    "Construisez une liste avec la longueur de chaque token du texte, créez un nouvel objet `FreqDist` à partir de cette liste, et affichez la distribution (non-cumulative) des nombres d'occurrences pour chaque longueur.  Qu'observez-vous ?"
   ]
  },
  {
   "cell_type": "code",
   "execution_count": 52,
   "metadata": {},
   "outputs": [
    {
     "data": {
      "image/png": "[encoded data removed]",
      "text/plain": [
       "<Figure size 432x288 with 1 Axes>"
      ]
     },
     "metadata": {
      "needs_background": "light"
     },
     "output_type": "display_data"
    },
    {
     "data": {
      "text/plain": [
       "<AxesSubplot:xlabel='Samples', ylabel='Counts'>"
      ]
     },
     "execution_count": 52,
     "metadata": {},
     "output_type": "execute_result"
    }
   ],
   "source": [
    "# Please write your Python code below and execute it.\n",
    "word_lengths = [len(word) for word in text]\n",
    "\n",
    "length_frequency = nltk.FreqDist(word_lengths)\n",
    "\n",
    "length_frequency.plot(cumulative=False)"
   ]
  },
  {
   "cell_type": "markdown",
   "metadata": {},
   "source": [
    "**Loi de Zipf.**  Générez la liste des fréquences des mots de votre texte par ordre décroissant (seulement les valeurs des fréquences).  Limitez cette liste à *N&nbsp;* valeurs (par exemple *N&nbsp;* = 100).  Affichez avec `matplotlib.pyplot.plot` la courbe en fonction du rang (donc le rang (1, 2, 3, ..., *N&nbsp;*) sur l'axe *x&nbsp;* et la fréquence sur l'axe *y&nbsp;*).  Ajoutez une courbe de la forme *y&nbsp;* = *a&nbsp;* / (*x&nbsp;* + *b&nbsp;*) en choississant des valeurs de *a&nbsp;* et *b&nbsp;* qui rapprochent autant que possible de la courbe des fréquences."
   ]
  },
  {
   "cell_type": "code",
   "execution_count": 105,
   "metadata": {},
   "outputs": [
    {
     "data": {
      "text/plain": [
       "[<matplotlib.lines.Line2D at 0x7f214507ef40>]"
      ]
     },
     "execution_count": 105,
     "metadata": {},
     "output_type": "execute_result"
    },
    {
     "data": {
      "image/png": "[encoded data removed]",
      "text/plain": [
       "<Figure size 432x288 with 1 Axes>"
      ]
     },
     "metadata": {
      "needs_background": "light"
     },
     "output_type": "display_data"
    }
   ],
   "source": [
    "import numpy as np\n",
    "# Please write your Python code in this cell and execute it.\n",
    "limit = 100\n",
    "\n",
    "frequencies = list(word_frequency.values())\n",
    "frequencies.sort(reverse=True)\n",
    "total = sum(frequencies)\n",
    "\n",
    "# change frequencies to percentage\n",
    "frequencies = list(map(lambda x: (x/total)*100, frequencies))\n",
    "# get the first 100\n",
    "frequencies = frequencies[:limit]\n",
    "\n",
    "x = np.linspace(0,limit,limit)\n",
    "y = 16 / (x+2.5)\n",
    "plt.plot(frequencies)\n",
    "plt.plot(x, y)"
   ]
  },
  {
   "cell_type": "markdown",
   "metadata": {},
   "source": [
    "## Fin de la partie 1c du Labo1\n",
    "Veuillez nettoyer autant que possible ce _notebook_, exécutez une dernière fois toutes les cellules pour obtenir les résultats demandés, et enregistrez le _notebook_.  Puis ajoutez-le dans une archive _zip_ avec les _notebook_ des parties 1b et 1d, et soumettez l'archive individuellement sur Cyberlearn (_Laboratoire 1_). "
   ]
  }
 ],
 "metadata": {
  "kernelspec": {
   "display_name": "Python 3",
   "language": "python",
   "name": "python3"
  },
  "language_info": {
   "codemirror_mode": {
    "name": "ipython",
    "version": 3
   },
   "file_extension": ".py",
   "mimetype": "text/x-python",
   "name": "python",
   "nbconvert_exporter": "python",
   "pygments_lexer": "ipython3",
   "version": "3.8.8"
  }
 },
 "nbformat": 4,
 "nbformat_minor": 2
}
